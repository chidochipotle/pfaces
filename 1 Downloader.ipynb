{
 "cells": [
  {
   "cell_type": "markdown",
   "metadata": {},
   "source": [
    "# Image Downloader"
   ]
  },
  {
   "cell_type": "code",
   "execution_count": 2,
   "metadata": {
    "collapsed": false
   },
   "outputs": [
    {
     "ename": "ImportError",
     "evalue": "No module named 'urllib3'",
     "output_type": "error",
     "traceback": [
      "\u001b[1;31m---------------------------------------------------------------------------\u001b[0m",
      "\u001b[1;31mImportError\u001b[0m                               Traceback (most recent call last)",
      "\u001b[1;32m<ipython-input-2-3063f9271c5c>\u001b[0m in \u001b[0;36m<module>\u001b[1;34m()\u001b[0m\n\u001b[0;32m      1\u001b[0m \u001b[1;32mimport\u001b[0m \u001b[0mpandas\u001b[0m \u001b[1;32mas\u001b[0m \u001b[0mpd\u001b[0m\u001b[1;33m\u001b[0m\u001b[0m\n\u001b[0;32m      2\u001b[0m \u001b[1;32mimport\u001b[0m \u001b[0murllib\u001b[0m\u001b[1;33m\u001b[0m\u001b[0m\n\u001b[1;32m----> 3\u001b[1;33m \u001b[1;32mimport\u001b[0m \u001b[0murllib3\u001b[0m\u001b[1;33m\u001b[0m\u001b[0m\n\u001b[0m\u001b[0;32m      4\u001b[0m \u001b[1;32mimport\u001b[0m \u001b[0mssl\u001b[0m \u001b[1;31m# SSLError\u001b[0m\u001b[1;33m\u001b[0m\u001b[0m\n\u001b[0;32m      5\u001b[0m \u001b[1;32mimport\u001b[0m  \u001b[0mrequests\u001b[0m \u001b[1;31m# t SSLError\u001b[0m\u001b[1;33m\u001b[0m\u001b[0m\n",
      "\u001b[1;31mImportError\u001b[0m: No module named 'urllib3'"
     ]
    }
   ],
   "source": [
    "import pandas as pd \n",
    "import urllib\n",
    "import urllib2\n",
    "import ssl # SSLError\n",
    "import  requests # t SSLError\n",
    "from urllib2 import URLError\n",
    "from urlparse import urlparse\n",
    "import os\n",
    "from pyprind import ProgBar\n",
    "import socket\n",
    "import sys\n",
    "import matplotlib.pyplot as plt\n",
    "from IPython.display import display\n",
    "%matplotlib inline\n",
    "from pymongo import MongoClient"
   ]
  },
  {
   "cell_type": "markdown",
   "metadata": {},
   "source": [
    "## Load cvs file containing urls "
   ]
  },
  {
   "cell_type": "code",
   "execution_count": 34,
   "metadata": {
    "collapsed": false
   },
   "outputs": [
    {
     "name": "stdout",
     "output_type": "stream",
     "text": [
      "Valid Urls starting with \"htt*\" 76987 from a total of 83933 in csv file\n",
      "<class 'pandas.core.frame.DataFrame'>\n",
      "Int64Index: 83933 entries, 0 to 83932\n",
      "Data columns (total 7 columns):\n",
      "media_source             83933 non-null object\n",
      "pub_date                 83933 non-null object\n",
      "image_url                83909 non-null object\n",
      "image_width              6487 non-null object\n",
      "image_height             4026 non-null object\n",
      "mediacloud_stories_id    83933 non-null int64\n",
      "story_url                83933 non-null object\n",
      "dtypes: int64(1), object(6)\n",
      "memory usage: 5.1+ MB\n"
     ]
    }
   ],
   "source": [
    "#Load URL List\n",
    "df = pd.read_csv('image_urls.csv')\n",
    "image_urls = pd.Series(df['image_url']).dropna()\n",
    "urls = image_urls[ image_urls.str.startswith(\"htt\")]\n",
    "print(\"Valid Urls starting with \\\"htt*\\\" \" + str(len(urls)) + \n",
    "      \" from a total of \"+ str(len(df)) + \" in csv file\") \n",
    "df.info()"
   ]
  },
  {
   "cell_type": "code",
   "execution_count": 46,
   "metadata": {
    "collapsed": false
   },
   "outputs": [
    {
     "data": {
      "image/png": "[encoded data removed]",
      "text/plain": [
       "<matplotlib.figure.Figure at 0x5367850>"
      ]
     },
     "metadata": {},
     "output_type": "display_data"
    },
    {
     "name": "stdout",
     "output_type": "stream",
     "text": [
      "Repetition histogram\n",
      "\n",
      "first 10 values data ploted above: \n",
      "[7555 7555 3158 2511 1759 1680 1085 1083  758  758]\n",
      "('Unique links:', 13842)\n",
      "('links found at most 10 times, should be photos ', 13023)\n",
      "('links found at least 10 times, spacers, logos, etc ..', 819)\n"
     ]
    }
   ],
   "source": [
    "fig = plt.figure()\n",
    "ax = fig.add_subplot(1,1,1)\n",
    "image_urls_counts = image_urls.value_counts()\n",
    "line, = ax.plot(image_urls_counts .values, color='blue', lw=2)\n",
    "ax.set_yscale('log')\n",
    "ax.set_ylabel(\"Number of times repeated\")\n",
    "ax.set_xscale('log')\n",
    "ax.set_xlabel(\"urls\")\n",
    "plt.show()\n",
    "print(\"Repetition histogram\")\n",
    "print(\"\")\n",
    "print(\"first 10 values data ploted above: \")\n",
    "print(image_urls_counts[:10].values)\n",
    "print(\"Unique links:\", len(image_urls.dropna().unique())) \n",
    "print(\"links found at most 10 times, should be photos \", \n",
    "      len(image_urls_counts [image_urls_counts<=10]))\n",
    "print(\"links found at least 10 times, spacers, logos, etc ..\",\n",
    "      len(image_urls_counts [image_urls_counts>10])) "
   ]
  },
  {
   "cell_type": "code",
   "execution_count": 47,
   "metadata": {
    "collapsed": false
   },
   "outputs": [
    {
     "name": "stdout",
     "output_type": "stream",
     "text": [
      "('Remaining url after we remove urls repeated 10 times: ', 21046)\n"
     ]
    }
   ],
   "source": [
    "#Removed Urls repeated more than 10 times\n",
    "val_counts = urls.value_counts()\n",
    "repetition_dict = {url:repeted for url,repeted in val_counts.iteritems()}\n",
    "url_list = [url for url in urls if repetition_dict[url] <= 10]\n",
    "urls = pd.Series(url_list)\n",
    "print(\"Remaining url after we remove urls repeated 10 times: \", len(urls))"
   ]
  },
  {
   "cell_type": "code",
   "execution_count": 48,
   "metadata": {
    "collapsed": false
   },
   "outputs": [
    {
     "name": "stdout",
     "output_type": "stream",
     "text": [
      "('Files downloaded: ', 12063)\n",
      "True     19119\n",
      "False     1927\n",
      "dtype: int64\n",
      "('Remaining: ', 1927, 'Downloaded files removed:', 12063)\n"
     ]
    }
   ],
   "source": [
    "#Remove Files already loaded\n",
    "files =  os.listdir(\"img\")\n",
    "down_urls =  map(urllib2.unquote, files)\n",
    "print(\"Files downloaded: \", len(down_urls))\n",
    "print(urls.isin(down_urls).value_counts())\n",
    "remaining = urls[~urls.isin(down_urls)] #remaining = pd.read_csv('test.csv') # testing with a couple of files\n",
    "print(\"Remaining: \", len(remaining), \"Downloaded files removed:\", len(down_urls))\n",
    "remaining = pd.Series(remaining)"
   ]
  },
  {
   "cell_type": "code",
   "execution_count": 49,
   "metadata": {
    "collapsed": false
   },
   "outputs": [
    {
     "name": "stdout",
     "output_type": "stream",
     "text": [
      "('Remaining', 729, 'after unvalid extensions removed')\n"
     ]
    }
   ],
   "source": [
    "#Removing unvalid extensions\n",
    "exts =  [os.path.splitext(p)[1] for p in remaining] #croping text before \".\"\n",
    "exts =  [ext.split('?')[0]  for ext in exts] #removing text after extension\n",
    "exts =  [ext.split('&')[0]  for ext in exts] #removing text after extension\n",
    "exts =  [ext.split('%')[0]  for ext in exts] #removing text after extension\n",
    "valid = pd.Series(exts)\n",
    "v = valid.isin(['.jpg', '.gif' ,'.png', '.jpeg','.JPG'])\n",
    "remaining = remaining[list(valid.isin(['.jpg', '.gif' ,'.png', '.jpeg','.JPG']))] # what we keep\n",
    "print(\"Remaining\", len(remaining), \"after unvalid extensions removed\")"
   ]
  },
  {
   "cell_type": "code",
   "execution_count": 9,
   "metadata": {
    "collapsed": false
   },
   "outputs": [
    {
     "name": "stdout",
     "output_type": "stream",
     "text": [
      "('Files to download: ', 76987)\n",
      "('Remaining after removed repeated 10: ', 21046)\n",
      "('Files downloaded: ', 11595)\n",
      "True     18950\n",
      "False     2096\n",
      "dtype: int64\n",
      "('Remaining: ', 2096, 'Downloaded files removed:', 11595)\n"
     ]
    },
    {
     "name": "stderr",
     "output_type": "stream",
     "text": [
      "0%                          100%\n",
      "[                              ] | ETA: 00:01:16 | Item ID: http://static01.nyt.com/images/2015/11/20/us/why-it-takes-two-years-for-syrian-refugees-to-apply-to-enter-the-united-states-1448050604249/why-it-takes-two-years-for-syrian-refugees-to-apply-to-enter-the-united-states-1448050604249-master495-v5.png"
     ]
    },
    {
     "name": "stdout",
     "output_type": "stream",
     "text": [
      "('Remaining', 898, 'after unvalid extensions removed')\n"
     ]
    },
    {
     "name": "stderr",
     "output_type": "stream",
     "text": [
      "[##############################] | ETA: 00:00:00 | Item ID: https://i.guim.co.uk/img/media/9f52b7012ad3ae3e729373e696407c10dea5cd57/123_30_2694_1617/master/2694.jpg?w=300&q=85&auto=format&sharp=10&s=f681edb76cb05dab82f737b93946ef23"
     ]
    },
    {
     "name": "stdout",
     "output_type": "stream",
     "text": [
      "('unfechables', 0, 'large_names', 615)\n"
     ]
    },
    {
     "name": "stderr",
     "output_type": "stream",
     "text": [
      "\n",
      "Total time elapsed: 00:03:50\n"
     ]
    }
   ],
   "source": [
    "# Downloading images\n",
    "bar = ProgBar(len(remaining), monitor=True)\n",
    "unfetchables = []\n",
    "timeouts = []\n",
    "urlerrors = []\n",
    "large_names = []\n",
    "\n",
    "for i, image_name in enumerate(remaining):\n",
    "    bar.update(item_id = image_name, force_flush=True)\n",
    "    img =  None\n",
    "    try:\n",
    "        img = urllib2.urlopen(image_name, None, 0.5).read()\n",
    "    except (URLError, requests.exceptions.SSLError, ssl.SSLError) as e:\n",
    "        urlerrors.append((image_name,e))\n",
    "        #print(\"URLError:   \",e ,image_name)\n",
    "        continue\n",
    "    except socket.timeout as e:\n",
    "        timeouts.append((image_name, e))\n",
    "        #print(\"Timed out!\", e, image_name)\n",
    "        continue\n",
    "    except Exception as e:\n",
    "        unfetchables.append((image_name, e))\n",
    "        print(\"Unknow exception\", e, image_name)\n",
    "        continue\n",
    "    filename = urllib2.quote(image_name, safe=\"\")\n",
    "    if len(filename) > 250:\n",
    "        large_names.append(filename)\n",
    "        filename = 'L' + filename[:250]\n",
    "        #print(\"Name too long\"+filename)\n",
    "    if img:\n",
    "        f = open(\"img/\" + filename,'wb')\n",
    "        f.write(img)\n",
    "        f.close()\n",
    "print(\"urlerros\", len(urlerrors), \"timeouts\", len(timeouts), \n",
    "      \"unfetchables\", len(unfetchables), \"large names\", len(large_names))"
   ]
  },
  {
   "cell_type": "code",
   "execution_count": 10,
   "metadata": {
    "collapsed": false
   },
   "outputs": [
    {
     "name": "stdout",
     "output_type": "stream",
     "text": [
      "(112, 2, 0, 615)\n"
     ]
    }
   ],
   "source": [
    "print(len(urlerrors), len(timeouts), len(unfetchables), len(large_names))"
   ]
  },
  {
   "cell_type": "code",
   "execution_count": null,
   "metadata": {
    "collapsed": true
   },
   "outputs": [],
   "source": []
  },
  {
   "cell_type": "markdown",
   "metadata": {},
   "source": [
    "# Scratch Pad"
   ]
  },
  {
   "cell_type": "code",
   "execution_count": 82,
   "metadata": {
    "collapsed": false
   },
   "outputs": [
    {
     "name": "stdout",
     "output_type": "stream",
     "text": [
      "((83933, 7), (83909,), (13842,), (13777,))\n"
     ]
    }
   ],
   "source": [
    "# Discarting malformed Urls\n",
    "df = pd.read_csv('image_urls.csv')\n",
    "urls = df['image_url'].dropna()\n",
    "malformed = urls[ urls.str.contains(\"img.youtube.com\")]\n",
    "malformed_urls =  urls[ urls.str.startswith(\"htt\")]\n",
    "print(df.shape, urls.shape, urls.unique().shape, malformed_urls.unique().shape)"
   ]
  },
  {
   "cell_type": "code",
   "execution_count": 96,
   "metadata": {
    "collapsed": true
   },
   "outputs": [
    {
     "name": "stdout",
     "output_type": "stream",
     "text": [
      "(6, 7)\n",
      "** width **\n",
      "count     0\n",
      "mean    NaN\n",
      "std     NaN\n",
      "min     NaN\n",
      "25%     NaN\n",
      "50%     NaN\n",
      "75%     NaN\n",
      "max     NaN\n",
      "Name: image_width, dtype: float64\n",
      "** height **\n",
      "count     0\n",
      "mean    NaN\n",
      "std     NaN\n",
      "min     NaN\n",
      "25%     NaN\n",
      "50%     NaN\n",
      "75%     NaN\n",
      "max     NaN\n",
      "Name: image_height, dtype: float64\n",
      "('rows_with_width', 0)\n",
      "('rows_with_height', 0)\n",
      "('rows_with_height and rows_with_height', 0)\n"
     ]
    }
   ],
   "source": [
    "#Checking images height and width\n",
    "import pandas as pd\n",
    "d = pd.read_csv('test.csv')\n",
    "print(d.shape)\n",
    "print(\"** width **\")\n",
    "print(d['image_width'].describe())\n",
    "print(\"** height **\")\n",
    "print(d['image_height'].describe())\n",
    "rows_with_width = [ r for r, v in enumerate(d['image_width'].notnull()) if v]\n",
    "rows_with_height = [ r for r, v in enumerate(d['image_height'].notnull()) if v]\n",
    "print(\"rows_with_width\", len(rows_with_width))\n",
    "print(\"rows_with_height\", len(rows_with_height))\n",
    "print(\"rows_with_height and rows_with_height\",len(set(rows_with_width+rows_with_height)))"
   ]
  },
  {
   "cell_type": "markdown",
   "metadata": {},
   "source": [
    "### Extension Extraction\n"
   ]
  },
  {
   "cell_type": "code",
   "execution_count": 121,
   "metadata": {
    "collapsed": false
   },
   "outputs": [],
   "source": [
    "d = pd.read_csv('image_urls.csv')\n",
    "paths = [ urlparse(name).path for name in d['image_url'].dropna()]\n",
    "exts =  [os.path.splitext(p)[1] for p in paths]\n",
    "ext = pd.Series(exts, dtype='category')\n",
    "ext.unique()\n",
    "ext.value_counts()\n",
    "len(ext)"
   ]
  },
  {
   "cell_type": "markdown",
   "metadata": {
    "collapsed": false
   },
   "source": [
    "### Duplicate Name Handling "
   ]
  },
  {
   "cell_type": "code",
   "execution_count": 158,
   "metadata": {
    "collapsed": false
   },
   "outputs": [
    {
     "data": {
      "text/plain": [
       "(83458,)"
      ]
     },
     "execution_count": 158,
     "metadata": {},
     "output_type": "execute_result"
    }
   ],
   "source": [
    "# unquoting image names\n",
    "urls = df['image_url'].dropna()\n",
    "files = [ f for f in os.listdir(\"img\")]\n",
    "down_urls =  map(urllib.unquote, files)\n",
    "remaining = urls[~urls.isin(down_urls)]\n",
    "remaining.shape\n"
   ]
  },
  {
   "cell_type": "code",
   "execution_count": null,
   "metadata": {
    "collapsed": false
   },
   "outputs": [],
   "source": [
    "%ls \n",
    "#name = 'http://static01.nyt.com/images/2014/11/12/opinion/krugman-circular/krugman-circular-thumbLarge-v4.png'\n",
    "name = 'http%3A%2F%2Fstatic01.nyt.com%2Fimages%2F2015%2F11%2F20%2Fus%2Fwhy-it-takes-two-years-for-syrian-refugees-to-apply-to-enter-the-united-states-1448050604249%2Fwhy-it-takes-two-years-for-syrian-refugees-to-apply-to-enter-the-united-states-1448050604249-master495-v5.png'\n",
    "real_name = urllib.unquote(name)\n",
    "url2 = urllib.url2pathname(name)\n",
    "url_quote = urllib.quote(name, safe=\"\")\n",
    "print(url2)\n",
    "print(url_quote)\n",
    "#f = open('img/'+ url_quote, 'wb')\n",
    "#f = open(\"img/test\", 'wb')\n",
    "\n",
    "import base64\n",
    "a = real_name\n",
    "b = real_name.encode('zlib')\n",
    "c = base64.urlsafe_b64encode(real_name.encode('zlib'))\n",
    "\n",
    "a,b,c,len(a),len(b),len(c)\n",
    "# crop_index = 255 - len(urlsafe_base64encode(zlib encode))) \n",
    "# name = quote_name(file_name)[crop_index:]+ safeseparator + encoded name"
   ]
  }
 ],
 "metadata": {
  "kernelspec": {
   "display_name": "Python 3",
   "language": "python",
   "name": "python3"
  },
  "language_info": {
   "codemirror_mode": {
    "name": "ipython",
    "version": 3
   },
   "file_extension": ".py",
   "mimetype": "text/x-python",
   "name": "python",
   "nbconvert_exporter": "python",
   "pygments_lexer": "ipython3",
   "version": "3.5.1"
  }
 },
 "nbformat": 4,
 "nbformat_minor": 0
}
