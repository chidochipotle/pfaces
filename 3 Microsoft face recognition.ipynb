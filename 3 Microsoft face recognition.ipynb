{
 "cells": [
  {
   "cell_type": "code",
   "execution_count": null,
   "metadata": {
    "collapsed": true
   },
   "outputs": [],
   "source": [
    "import time \n",
    "import requests\n",
    "import cv2\n",
    "import operator\n",
    "import numpy as np\n",
    "\n",
    "import matplotlib.pyplot as plt\n",
    "%matplotlib inline "
   ]
  },
  {
   "cell_type": "code",
   "execution_count": null,
   "metadata": {
    "collapsed": true
   },
   "outputs": [],
   "source": [
    "# Variables\n",
    "\n",
    "_url = 'https://api.projectoxford.ai/face/v1.0/detect'\n",
    "_key = 'd22370771840433ca59ead5bf43c03bc'\n",
    "_maxNumRetries = 10"
   ]
  },
  {
   "cell_type": "code",
   "execution_count": null,
   "metadata": {
    "collapsed": true
   },
   "outputs": [],
   "source": [
    "https://github.com/southwood/project-oxford-python"
   ]
  },
  {
   "cell_type": "raw",
   "metadata": {},
   "source": [
    "https://www.microsoft.com/cognitive-services/en-us/face-api/documentation/face-api-how-to-topics/howtoidentifyfacesinimage\n",
    "\n",
    "\n",
    "Product \tDescription \tKeys \tState \tCreated \tQuota\n",
    "Emotion - Preview \t30,000 transactions per month, 20 per minute. \t\n",
    "Key 1:\n",
    "99ed74aecea049d9ad2c3476756f8fcd\n",
    "Regenerate | Hide\n",
    "Key 2:\n",
    "becfba5ce3094d3caae3c052473ecaad\n",
    "Regenerate | Hide\n",
    "\tactive \t4/28/2016 2:33:16 PM \tShow Quota\n",
    "\t\n",
    "Computer Vision - Preview \t5,000 transactions per month, 20 per minute. \t\n",
    "Key 1:\n",
    "cdf4bd133a944c61abce00f352c41f4d\n",
    "Regenerate | Hide\n",
    "Key 2:\n",
    "83fff1ee01934a9eab77dabc173046d4\n",
    "Regenerate | Hide\n",
    "\tactive \t4/28/2016 2:33:16 PM \tShow Quota\n",
    "\t\n",
    "Face - Preview \t30,000 transactions per month, 20 per minute. \t\n",
    "Key 1:\n",
    "d22370771840433ca59ead5bf43c03bc\n",
    "Regenerate | Hide\n",
    "Key 2:\n",
    "0046e0ccc6d041b0b6f4f40a14758feb\n",
    "Regenerate | Hide\n",
    "\tactive \t4/28/2016 2:33:16 PM \tShow Quota"
   ]
  }
 ],
 "metadata": {
  "kernelspec": {
   "display_name": "Python 3",
   "language": "python",
   "name": "python3"
  },
  "language_info": {
   "codemirror_mode": {
    "name": "ipython",
    "version": 3
   },
   "file_extension": ".py",
   "mimetype": "text/x-python",
   "name": "python",
   "nbconvert_exporter": "python",
   "pygments_lexer": "ipython3",
   "version": "3.5.1"
  }
 },
 "nbformat": 4,
 "nbformat_minor": 0
}
