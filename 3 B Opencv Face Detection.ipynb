{
 "cells": [
  {
   "cell_type": "markdown",
   "metadata": {},
   "source": [
    "# Face detection with OpenCV\n"
   ]
  },
  {
   "cell_type": "code",
   "execution_count": null,
   "metadata": {
    "collapsed": true
   },
   "outputs": [],
   "source": [
    "import cv2\n",
    "low_cl_files = os.listdir(\"low_cl/\")\n",
    "plt.axis('off')\n",
    "for image_name in low_cl_files:\n",
    "    imagePath= \"low_cl/\"+image_name\n",
    "    frontal_face = \"/usr/share/opencv/haarcascades/haarcascade_frontalface_default.xml\"\n",
    "    faceCascade = cv2.CascadeClassifier(frontal_face)\n",
    "    image = cv2.imread(imagePath)\n",
    "    gray = cv2.cvtColor(image, cv2.COLOR_BGR2GRAY)\n",
    "    # Detect faces in the image\n",
    "    faces = faceCascade.detectMultiScale(\n",
    "        gray,\n",
    "        scaleFactor=1.1,\n",
    "        minNeighbors=1,\n",
    "        minSize=(100, 100),\n",
    "        flags = cv2.cv.CV_HAAR_SCALE_IMAGE\n",
    "    )\n",
    "    print(\"Found {0} faces!\".format(len(faces)), \"size\",image.shape)\n",
    "    # Draw a rectangle around the faces\n",
    "    for (x, y, w, h) in faces:\n",
    "        cv2.rectangle(image, (x, y), (x+w, y+h), (0, 255, 0), 2)\n",
    "    cv2.imwrite(\"face_id/\"+image_name, image)\n",
    "plt.imshow(cv2.cvtColor(image, cv2.COLOR_BGR2RGB))"
   ]
  },
  {
   "cell_type": "markdown",
   "metadata": {},
   "source": [
    "## Scratchpad"
   ]
  },
  {
   "cell_type": "code",
   "execution_count": null,
   "metadata": {
    "collapsed": true
   },
   "outputs": [],
   "source": [
    "#print(imagePath)\n",
    "#cv2.imwrite(\"face_id\", image)\n",
    "#img = cv2.imread(imagePath)\n",
    "#plt.imshow(cv2.cvtColor(image, cv2.COLOR_BGR2RGB))\n",
    "cv2.imwrite?"
   ]
  },
  {
   "cell_type": "code",
   "execution_count": null,
   "metadata": {
    "collapsed": true
   },
   "outputs": [],
   "source": [
    "#Transparent\n",
    "transparent = np.ones(all_files.shape, dtype=bool)\n",
    "for i, file in enumerate(all_files):\n",
    "    img = Image.open(\"random/\"+file)\n",
    "    for px in img.getdata():\n",
    "        if px[3] != 255:\n",
    "            transparent[i] = False\n",
    "non_transparent = min_size_img[transparent]\n",
    "print(len(non_transparent))"
   ]
  }
 ],
 "metadata": {
  "kernelspec": {
   "display_name": "Python 3",
   "language": "python",
   "name": "python3"
  },
  "language_info": {
   "codemirror_mode": {
    "name": "ipython",
    "version": 3
   },
   "file_extension": ".py",
   "mimetype": "text/x-python",
   "name": "python",
   "nbconvert_exporter": "python",
   "pygments_lexer": "ipython3",
   "version": "3.5.1"
  }
 },
 "nbformat": 4,
 "nbformat_minor": 0
}
